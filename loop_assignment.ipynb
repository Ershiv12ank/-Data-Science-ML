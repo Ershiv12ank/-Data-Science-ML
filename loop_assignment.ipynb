{
 "cells": [
  {
   "cell_type": "raw",
   "id": "14184432-2078-4888-80a5-d068341a4df4",
   "metadata": {},
   "source": [
    "# question 1 Explain with an example each when to use a for loop and a while loop."
   ]
  },
  {
   "cell_type": "raw",
   "id": "f1b5cd01-3a54-46f1-aee4-c8d820d200a5",
   "metadata": {},
   "source": [
    "Use a for loop when you know the number of iterations in advance, such as when iterating over a known sequence or range."
   ]
  },
  {
   "cell_type": "code",
   "execution_count": 1,
   "id": "7b57ddc4-0e8c-4b2b-8f8f-6f4503cd31b6",
   "metadata": {},
   "outputs": [
    {
     "name": "stdout",
     "output_type": "stream",
     "text": [
      "Sum of numbers: 15\n"
     ]
    }
   ],
   "source": [
    "# Example: Calculating the sum of numbers from 1 to 5 using a for loop\n",
    "sum_of_numbers = 0\n",
    "for i in range(1, 6):  # iterating over numbers 1 through 5\n",
    "    sum_of_numbers += i\n",
    "print(\"Sum of numbers:\", sum_of_numbers)\n"
   ]
  },
  {
   "cell_type": "markdown",
   "id": "d5bf5a0a-6e85-4a3e-ab90-5e74511a1efa",
   "metadata": {},
   "source": [
    "While Loop Example:\n",
    "Use a while loop when the number of iterations is not known in advance and depends on a condition.\n"
   ]
  },
  {
   "cell_type": "code",
   "execution_count": 2,
   "id": "682b411a-65fd-412a-8c90-047e9ae8085e",
   "metadata": {},
   "outputs": [
    {
     "name": "stdout",
     "output_type": "stream",
     "text": [
      "Factorial of 5: 120\n"
     ]
    }
   ],
   "source": [
    "# Example: Finding the factorial of a number using a while loop\n",
    "number = 5\n",
    "factorial = 1\n",
    "while number > 0:  # continue until number becomes 0\n",
    "    factorial *= number\n",
    "    number -= 1\n",
    "print(\"Factorial of 5:\", factorial)\n"
   ]
  },
  {
   "cell_type": "raw",
   "id": "3b0309db-cb5b-4d07-a291-c122db45a868",
   "metadata": {},
   "source": [
    "Q2. Write a python program to print the sum and product of the first 10 natural numbers using for\n",
    "and while loop."
   ]
  },
  {
   "cell_type": "code",
   "execution_count": 3,
   "id": "3348b82e-e03e-424c-ab8b-73ac38f0f23d",
   "metadata": {},
   "outputs": [
    {
     "name": "stdout",
     "output_type": "stream",
     "text": [
      "Using for loop:\n",
      "Sum of the first 10 natural numbers: 55\n",
      "Product of the first 10 natural numbers: 3628800\n",
      "\n",
      "Using while loop:\n",
      "Sum of the first 10 natural numbers: 55\n",
      "Product of the first 10 natural numbers: 3628800\n"
     ]
    }
   ],
   "source": [
    "# Using for loop\n",
    "sum_of_numbers = 0\n",
    "product_of_numbers = 1\n",
    "\n",
    "for i in range(1, 11):  # iterating over the first 10 natural numbers\n",
    "    sum_of_numbers += i\n",
    "    product_of_numbers *= i\n",
    "\n",
    "print(\"Using for loop:\")\n",
    "print(\"Sum of the first 10 natural numbers:\", sum_of_numbers)\n",
    "print(\"Product of the first 10 natural numbers:\", product_of_numbers)\n",
    "\n",
    "# Using while loop\n",
    "sum_of_numbers = 0\n",
    "product_of_numbers = 1\n",
    "number = 1\n",
    "\n",
    "while number <= 10:  # continue until number becomes 10\n",
    "    sum_of_numbers += number\n",
    "    product_of_numbers *= number\n",
    "    number += 1\n",
    "\n",
    "print(\"\\nUsing while loop:\")\n",
    "print(\"Sum of the first 10 natural numbers:\", sum_of_numbers)\n",
    "print(\"Product of the first 10 natural numbers:\", product_of_numbers)\n"
   ]
  },
  {
   "cell_type": "raw",
   "id": "1327302f-af3d-45b2-b0f5-5813afac8b4d",
   "metadata": {},
   "source": [
    "Q3. Create a python program to compute the electricity bill for a household.\n",
    "\n",
    "The per-unit charges in rupees are as follows: For the first 100 units, the user will be charged Rs. 4.5 per\n",
    "unit, for the next 100 units, the user will be charged Rs. 6 per unit, and for the next 100 units, the user will\n",
    "be charged Rs. 10 per unit, After 300 units and above the user will be charged Rs. 20 per unit."
   ]
  },
  {
   "cell_type": "code",
   "execution_count": 7,
   "id": "bfcfa2fa-53c4-4af2-9ac7-8d9a42c0c0bd",
   "metadata": {},
   "outputs": [
    {
     "name": "stdin",
     "output_type": "stream",
     "text": [
      "Enter unit of electricity bill 310\n"
     ]
    },
    {
     "name": "stdout",
     "output_type": "stream",
     "text": [
      "your electricity bill : 2250.0\n"
     ]
    }
   ],
   "source": [
    "unit=int(input(\"Enter unit of electricity bill\"))\n",
    "electricity_bill=0\n",
    "if(unit<=100 and unit>0):\n",
    "    electricity_bill=unit*4.5\n",
    "elif(unit<=200 and unit>100):\n",
    "    unit_1=100\n",
    "    new_unit=unit-100\n",
    "    electricity_bill=unit*4.5+new_unit*6\n",
    "elif(unit<=300 and unit>200):\n",
    "    unit_1=100\n",
    "    new_unit=100\n",
    "    new_unit1=unit-200\n",
    "    electricity_bill=unit*4.5+new_unit*6+new_unit1*10\n",
    "elif(unit>300):\n",
    "    unit_1=100\n",
    "    new_unit=100\n",
    "    new_unit1=100\n",
    "    new_unit2=unit-300\n",
    "    electricity_bill=unit_1*4.5+new_unit*6+new_unit1*10+new_unit2*20\n",
    "print(\"your electricity bill :\",electricity_bill)"
   ]
  },
  {
   "cell_type": "raw",
   "id": "6d23c3d5-7c62-44e1-b2af-4ab26f3bad7a",
   "metadata": {},
   "source": [
    "Question 4 Create a list of numbers from 1 to 100. Use for loop and while loop to calculate the cube of each\n",
    "number and if the cube of that number is divisible by 4 or 5 then append that number in a list and print\n",
    "that list."
   ]
  },
  {
   "cell_type": "code",
   "execution_count": 11,
   "id": "29a567bc-6624-44c8-9371-4e38a9dee187",
   "metadata": {},
   "outputs": [
    {
     "data": {
      "text/plain": [
       "[0,\n",
       " 8,\n",
       " 64,\n",
       " 125,\n",
       " 216,\n",
       " 512,\n",
       " 1000,\n",
       " 1728,\n",
       " 2744,\n",
       " 3375,\n",
       " 4096,\n",
       " 5832,\n",
       " 8000,\n",
       " 10648,\n",
       " 13824,\n",
       " 15625,\n",
       " 17576,\n",
       " 21952,\n",
       " 27000,\n",
       " 32768,\n",
       " 39304,\n",
       " 42875,\n",
       " 46656,\n",
       " 54872,\n",
       " 64000,\n",
       " 74088,\n",
       " 85184,\n",
       " 91125,\n",
       " 97336,\n",
       " 110592,\n",
       " 125000,\n",
       " 140608,\n",
       " 157464,\n",
       " 166375,\n",
       " 175616,\n",
       " 195112,\n",
       " 216000,\n",
       " 238328,\n",
       " 262144,\n",
       " 274625,\n",
       " 287496,\n",
       " 314432,\n",
       " 343000,\n",
       " 373248,\n",
       " 405224,\n",
       " 421875,\n",
       " 438976,\n",
       " 474552,\n",
       " 512000,\n",
       " 551368,\n",
       " 592704,\n",
       " 614125,\n",
       " 636056,\n",
       " 681472,\n",
       " 729000,\n",
       " 778688,\n",
       " 830584,\n",
       " 857375,\n",
       " 884736,\n",
       " 941192,\n",
       " 1000000]"
      ]
     },
     "execution_count": 11,
     "metadata": {},
     "output_type": "execute_result"
    }
   ],
   "source": [
    "list=[]\n",
    "for i in range(0,101):\n",
    "    n=i*i*i\n",
    "    if(n%4==0 or n%5==0):\n",
    "        list.append(n)\n",
    "list\n",
    "    "
   ]
  },
  {
   "cell_type": "raw",
   "id": "20238ac2-273c-44cb-b074-23d780408d9c",
   "metadata": {},
   "source": [
    "Q5. Write a program to filter count vowels in the below-given string.\n",
    "string = \"I want to become a data scientist\""
   ]
  },
  {
   "cell_type": "code",
   "execution_count": 15,
   "id": "3c0ab09a-f74b-42a5-8fed-ec73cc7ff7e2",
   "metadata": {},
   "outputs": [
    {
     "name": "stdout",
     "output_type": "stream",
     "text": [
      "12\n"
     ]
    }
   ],
   "source": [
    "string=\"I want to become a data scientist\"\n",
    "count=0\n",
    "for i in string:\n",
    "    if(i=='i' or i=='I' or i=='o' or i=='O' or i=='a' or i=='A' or i=='e' or i=='E' or i=='u' or i=='U'):\n",
    "        count=count+1\n",
    "print(count)"
   ]
  },
  {
   "cell_type": "code",
   "execution_count": null,
   "id": "90684dcd-d870-4608-81ef-0f6320af8996",
   "metadata": {},
   "outputs": [],
   "source": []
  }
 ],
 "metadata": {
  "kernelspec": {
   "display_name": "Python 3 (ipykernel)",
   "language": "python",
   "name": "python3"
  },
  "language_info": {
   "codemirror_mode": {
    "name": "ipython",
    "version": 3
   },
   "file_extension": ".py",
   "mimetype": "text/x-python",
   "name": "python",
   "nbconvert_exporter": "python",
   "pygments_lexer": "ipython3",
   "version": "3.11.7"
  }
 },
 "nbformat": 4,
 "nbformat_minor": 5
}
